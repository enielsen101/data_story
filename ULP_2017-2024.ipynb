{
 "cells": [
  {
   "cell_type": "markdown",
   "id": "be9d2318-3114-4686-ab0c-461a51b6e817",
   "metadata": {},
   "source": [
    "import library\n",
    "\n",
    "import data\n",
    "\n",
    "filter for Trader Joe's\n",
    "\n",
    "create a table that shows complaints against Trader Joe's by year\n",
    "\n",
    "export new df"
   ]
  },
  {
   "cell_type": "code",
   "execution_count": 5,
   "id": "480a0e75-7dc5-44c1-8c54-870a820d8d3e",
   "metadata": {},
   "outputs": [],
   "source": [
    "# import library \n",
    "\n",
    "import pandas as pd"
   ]
  },
  {
   "cell_type": "code",
   "execution_count": 7,
   "id": "8c744789-85bf-4310-ae57-c56f6920f12c",
   "metadata": {},
   "outputs": [
    {
     "data": {
      "text/html": [
       "<div>\n",
       "<style scoped>\n",
       "    .dataframe tbody tr th:only-of-type {\n",
       "        vertical-align: middle;\n",
       "    }\n",
       "\n",
       "    .dataframe tbody tr th {\n",
       "        vertical-align: top;\n",
       "    }\n",
       "\n",
       "    .dataframe thead th {\n",
       "        text-align: right;\n",
       "    }\n",
       "</style>\n",
       "<table border=\"1\" class=\"dataframe\">\n",
       "  <thead>\n",
       "    <tr style=\"text-align: right;\">\n",
       "      <th></th>\n",
       "      <th>Date Filed</th>\n",
       "      <th>Case Name</th>\n",
       "    </tr>\n",
       "  </thead>\n",
       "  <tbody>\n",
       "    <tr>\n",
       "      <th>0</th>\n",
       "      <td>9/30/24</td>\n",
       "      <td>Menehune Water Company</td>\n",
       "    </tr>\n",
       "    <tr>\n",
       "      <th>1</th>\n",
       "      <td>9/30/24</td>\n",
       "      <td>Amazon.com Services, Inc.</td>\n",
       "    </tr>\n",
       "    <tr>\n",
       "      <th>2</th>\n",
       "      <td>9/30/24</td>\n",
       "      <td>Mohr Oil</td>\n",
       "    </tr>\n",
       "    <tr>\n",
       "      <th>3</th>\n",
       "      <td>9/30/24</td>\n",
       "      <td>United States Postal Service</td>\n",
       "    </tr>\n",
       "    <tr>\n",
       "      <th>4</th>\n",
       "      <td>9/30/24</td>\n",
       "      <td>UNITED STATES POSTAL SERVICE</td>\n",
       "    </tr>\n",
       "    <tr>\n",
       "      <th>...</th>\n",
       "      <td>...</td>\n",
       "      <td>...</td>\n",
       "    </tr>\n",
       "    <tr>\n",
       "      <th>127561</th>\n",
       "      <td>10/2/17</td>\n",
       "      <td>General Motors, LLC</td>\n",
       "    </tr>\n",
       "    <tr>\n",
       "      <th>127562</th>\n",
       "      <td>10/2/17</td>\n",
       "      <td>Local 163, International Union, United Automob...</td>\n",
       "    </tr>\n",
       "    <tr>\n",
       "      <th>127563</th>\n",
       "      <td>10/2/17</td>\n",
       "      <td>Legal Aid of West Virginia</td>\n",
       "    </tr>\n",
       "    <tr>\n",
       "      <th>127564</th>\n",
       "      <td>10/2/17</td>\n",
       "      <td>United States Postal Service</td>\n",
       "    </tr>\n",
       "    <tr>\n",
       "      <th>127565</th>\n",
       "      <td>10/2/17</td>\n",
       "      <td>Cadillac of Naperville, Inc.</td>\n",
       "    </tr>\n",
       "  </tbody>\n",
       "</table>\n",
       "<p>127566 rows × 2 columns</p>\n",
       "</div>"
      ],
      "text/plain": [
       "       Date Filed                                          Case Name\n",
       "0         9/30/24                             Menehune Water Company\n",
       "1         9/30/24                          Amazon.com Services, Inc.\n",
       "2         9/30/24                                           Mohr Oil\n",
       "3         9/30/24                       United States Postal Service\n",
       "4         9/30/24                       UNITED STATES POSTAL SERVICE\n",
       "...           ...                                                ...\n",
       "127561    10/2/17                                General Motors, LLC\n",
       "127562    10/2/17  Local 163, International Union, United Automob...\n",
       "127563    10/2/17                         Legal Aid of West Virginia\n",
       "127564    10/2/17                       United States Postal Service\n",
       "127565    10/2/17                       Cadillac of Naperville, Inc.\n",
       "\n",
       "[127566 rows x 2 columns]"
      ]
     },
     "execution_count": 7,
     "metadata": {},
     "output_type": "execute_result"
    }
   ],
   "source": [
    "# import data\n",
    "\n",
    "df = pd.read_csv(\"data_raw/ULP_all_2017-2024.csv\")\n",
    "df"
   ]
  },
  {
   "cell_type": "code",
   "execution_count": 9,
   "id": "42728a25-3df0-470f-9f9a-d92bfd4e0570",
   "metadata": {},
   "outputs": [
    {
     "name": "stdout",
     "output_type": "stream",
     "text": [
      "<class 'pandas.core.frame.DataFrame'>\n",
      "RangeIndex: 127566 entries, 0 to 127565\n",
      "Data columns (total 2 columns):\n",
      " #   Column      Non-Null Count   Dtype \n",
      "---  ------      --------------   ----- \n",
      " 0   Date Filed  127566 non-null  object\n",
      " 1   Case Name   127566 non-null  object\n",
      "dtypes: object(2)\n",
      "memory usage: 1.9+ MB\n"
     ]
    }
   ],
   "source": [
    "# get info\n",
    "\n",
    "df.info()"
   ]
  },
  {
   "cell_type": "code",
   "execution_count": 11,
   "id": "935ec995-bcd9-4c28-92fc-1d797cb7f174",
   "metadata": {},
   "outputs": [
    {
     "data": {
      "text/html": [
       "<div>\n",
       "<style scoped>\n",
       "    .dataframe tbody tr th:only-of-type {\n",
       "        vertical-align: middle;\n",
       "    }\n",
       "\n",
       "    .dataframe tbody tr th {\n",
       "        vertical-align: top;\n",
       "    }\n",
       "\n",
       "    .dataframe thead th {\n",
       "        text-align: right;\n",
       "    }\n",
       "</style>\n",
       "<table border=\"1\" class=\"dataframe\">\n",
       "  <thead>\n",
       "    <tr style=\"text-align: right;\">\n",
       "      <th></th>\n",
       "      <th>Date Filed</th>\n",
       "      <th>Case Name</th>\n",
       "    </tr>\n",
       "  </thead>\n",
       "  <tbody>\n",
       "    <tr>\n",
       "      <th>0</th>\n",
       "      <td>9/30/24</td>\n",
       "      <td>Menehune Water Company</td>\n",
       "    </tr>\n",
       "    <tr>\n",
       "      <th>1</th>\n",
       "      <td>9/30/24</td>\n",
       "      <td>Amazon.com Services, Inc.</td>\n",
       "    </tr>\n",
       "    <tr>\n",
       "      <th>2</th>\n",
       "      <td>9/30/24</td>\n",
       "      <td>Mohr Oil</td>\n",
       "    </tr>\n",
       "    <tr>\n",
       "      <th>3</th>\n",
       "      <td>9/30/24</td>\n",
       "      <td>United States Postal Service</td>\n",
       "    </tr>\n",
       "    <tr>\n",
       "      <th>4</th>\n",
       "      <td>9/30/24</td>\n",
       "      <td>UNITED STATES POSTAL SERVICE</td>\n",
       "    </tr>\n",
       "  </tbody>\n",
       "</table>\n",
       "</div>"
      ],
      "text/plain": [
       "  Date Filed                     Case Name\n",
       "0    9/30/24        Menehune Water Company\n",
       "1    9/30/24     Amazon.com Services, Inc.\n",
       "2    9/30/24                      Mohr Oil\n",
       "3    9/30/24  United States Postal Service\n",
       "4    9/30/24  UNITED STATES POSTAL SERVICE"
      ]
     },
     "execution_count": 11,
     "metadata": {},
     "output_type": "execute_result"
    }
   ],
   "source": [
    "## call head\n",
    "\n",
    "df.head()"
   ]
  },
  {
   "cell_type": "code",
   "execution_count": 15,
   "id": "607c7e05-02ff-414b-a96c-2b3d71feba99",
   "metadata": {},
   "outputs": [],
   "source": [
    "## convert to date time format\n",
    "\n",
    "df[\"Date Filed\"] = pd.to_datetime(df[\"Date Filed\"])"
   ]
  },
  {
   "cell_type": "code",
   "execution_count": 17,
   "id": "48c0fc6c-c7e5-42bd-b0cf-3c7762b91cad",
   "metadata": {},
   "outputs": [
    {
     "data": {
      "text/html": [
       "<div>\n",
       "<style scoped>\n",
       "    .dataframe tbody tr th:only-of-type {\n",
       "        vertical-align: middle;\n",
       "    }\n",
       "\n",
       "    .dataframe tbody tr th {\n",
       "        vertical-align: top;\n",
       "    }\n",
       "\n",
       "    .dataframe thead th {\n",
       "        text-align: right;\n",
       "    }\n",
       "</style>\n",
       "<table border=\"1\" class=\"dataframe\">\n",
       "  <thead>\n",
       "    <tr style=\"text-align: right;\">\n",
       "      <th></th>\n",
       "      <th>Date Filed</th>\n",
       "      <th>Case Name</th>\n",
       "    </tr>\n",
       "  </thead>\n",
       "  <tbody>\n",
       "    <tr>\n",
       "      <th>341</th>\n",
       "      <td>2024-09-25</td>\n",
       "      <td>Trader Joe's</td>\n",
       "    </tr>\n",
       "    <tr>\n",
       "      <th>414</th>\n",
       "      <td>2024-09-24</td>\n",
       "      <td>Trader Joe's</td>\n",
       "    </tr>\n",
       "    <tr>\n",
       "      <th>3705</th>\n",
       "      <td>2024-08-01</td>\n",
       "      <td>Trader Joe's East</td>\n",
       "    </tr>\n",
       "    <tr>\n",
       "      <th>3758</th>\n",
       "      <td>2024-08-01</td>\n",
       "      <td>Trader Joe's East</td>\n",
       "    </tr>\n",
       "    <tr>\n",
       "      <th>3811</th>\n",
       "      <td>2024-07-31</td>\n",
       "      <td>Trader Joe's East</td>\n",
       "    </tr>\n",
       "    <tr>\n",
       "      <th>...</th>\n",
       "      <td>...</td>\n",
       "      <td>...</td>\n",
       "    </tr>\n",
       "    <tr>\n",
       "      <th>68239</th>\n",
       "      <td>2021-03-04</td>\n",
       "      <td>Trader Joes East, Inc.</td>\n",
       "    </tr>\n",
       "    <tr>\n",
       "      <th>68533</th>\n",
       "      <td>2021-02-26</td>\n",
       "      <td>Trader Joe's</td>\n",
       "    </tr>\n",
       "    <tr>\n",
       "      <th>79130</th>\n",
       "      <td>2020-06-11</td>\n",
       "      <td>Trader Joe's</td>\n",
       "    </tr>\n",
       "    <tr>\n",
       "      <th>98159</th>\n",
       "      <td>2019-04-22</td>\n",
       "      <td>Trader Joe's</td>\n",
       "    </tr>\n",
       "    <tr>\n",
       "      <th>120390</th>\n",
       "      <td>2018-02-21</td>\n",
       "      <td>Trader Joe's</td>\n",
       "    </tr>\n",
       "  </tbody>\n",
       "</table>\n",
       "<p>141 rows × 2 columns</p>\n",
       "</div>"
      ],
      "text/plain": [
       "       Date Filed               Case Name\n",
       "341    2024-09-25            Trader Joe's\n",
       "414    2024-09-24            Trader Joe's\n",
       "3705   2024-08-01       Trader Joe's East\n",
       "3758   2024-08-01       Trader Joe's East\n",
       "3811   2024-07-31       Trader Joe's East\n",
       "...           ...                     ...\n",
       "68239  2021-03-04  Trader Joes East, Inc.\n",
       "68533  2021-02-26            Trader Joe's\n",
       "79130  2020-06-11            Trader Joe's\n",
       "98159  2019-04-22            Trader Joe's\n",
       "120390 2018-02-21            Trader Joe's\n",
       "\n",
       "[141 rows x 2 columns]"
      ]
     },
     "execution_count": 17,
     "metadata": {},
     "output_type": "execute_result"
    }
   ],
   "source": [
    "## sort for Trader Joe's, call it\n",
    "\n",
    "TJ = df[df['Case Name'].str.contains(\"Trader Joe\", na=False)]\n",
    "TJ"
   ]
  },
  {
   "cell_type": "code",
   "execution_count": 19,
   "id": "99aa5c00-f6f8-43c0-827c-b45376c2762a",
   "metadata": {},
   "outputs": [
    {
     "name": "stdout",
     "output_type": "stream",
     "text": [
      "<class 'pandas.core.frame.DataFrame'>\n",
      "Index: 141 entries, 341 to 120390\n",
      "Data columns (total 2 columns):\n",
      " #   Column      Non-Null Count  Dtype         \n",
      "---  ------      --------------  -----         \n",
      " 0   Date Filed  141 non-null    datetime64[ns]\n",
      " 1   Case Name   141 non-null    object        \n",
      "dtypes: datetime64[ns](1), object(1)\n",
      "memory usage: 3.3+ KB\n"
     ]
    }
   ],
   "source": [
    "## examine\n",
    "\n",
    "TJ.info()"
   ]
  },
  {
   "cell_type": "code",
   "execution_count": 21,
   "id": "124c42a6-a823-4daf-85d1-e4de60a9a02d",
   "metadata": {},
   "outputs": [],
   "source": [
    "## With help from AI, made a copy (because it's a slice):\n",
    "\n",
    "TJ = TJ.copy()"
   ]
  },
  {
   "cell_type": "code",
   "execution_count": 23,
   "id": "d7e2048d-3e2b-4fe5-b270-bc10626f0803",
   "metadata": {},
   "outputs": [],
   "source": [
    "## cut up TJ by FY 2018 - 2024 \n",
    "\n",
    "df_2019 = TJ[\n",
    "    (TJ[\"Date Filed\"] >= \"2018-10-01\") & (TJ[\"Date Filed\"] <= \"2019-09-30\")].copy()\n",
    "df_2020 = TJ[\n",
    "    (TJ[\"Date Filed\"] >= \"2019-10-01\") & (TJ[\"Date Filed\"] <= \"2020-09-30\")].copy()\n",
    "df_2021 = TJ[\n",
    "    (TJ[\"Date Filed\"] >= \"2020-10-01\") & (TJ[\"Date Filed\"] <= \"2021-09-30\")].copy()\n",
    "df_2022 = TJ[\n",
    "    (TJ[\"Date Filed\"] >= \"2021-10-01\") & (TJ[\"Date Filed\"] <= \"2022-09-30\")].copy()\n",
    "df_2023 = TJ[\n",
    "    (TJ[\"Date Filed\"] >= \"2022-10-01\") & (TJ[\"Date Filed\"] <= \"2023-09-30\")].copy()\n",
    "df_2024 = TJ[\n",
    "    (TJ[\"Date Filed\"] >= \"2023-10-01\") & (TJ[\"Date Filed\"] <= \"2024-09-30\")].copy()"
   ]
  },
  {
   "cell_type": "code",
   "execution_count": 35,
   "id": "eb78f39e-211c-40fc-9f85-9d00846df9db",
   "metadata": {},
   "outputs": [
    {
     "name": "stdout",
     "output_type": "stream",
     "text": [
      "Trader Joe's cases in FY2019: 1\n",
      "Trader Joe's cases in FY2020: 1\n",
      "Trader Joe's cases in FY2021: 3\n",
      "Trader Joe's cases in FY2022: 3\n",
      "Trader Joe's cases in FY2023: 69\n",
      "Trader Joe's cases in FY2024: 45\n"
     ]
    }
   ],
   "source": [
    "## count cases per fy\n",
    "\n",
    "print(\"Trader Joe's cases in FY2019:\", len(df_2019))\n",
    "print(\"Trader Joe's cases in FY2020:\", len(df_2020))\n",
    "print(\"Trader Joe's cases in FY2021:\", len(df_2021))\n",
    "print(\"Trader Joe's cases in FY2022:\", len(df_2021))\n",
    "print(\"Trader Joe's cases in FY2023:\", len(df_2023))\n",
    "print(\"Trader Joe's cases in FY2024:\", len(df_2024))"
   ]
  },
  {
   "cell_type": "code",
   "execution_count": 39,
   "id": "bbed9331-675d-4b26-a48d-25a4133d7958",
   "metadata": {},
   "outputs": [
    {
     "name": "stdout",
     "output_type": "stream",
     "text": [
      "  Fiscal Year  Instances\n",
      "0        2019          1\n",
      "1        2020          1\n",
      "2        2021          3\n",
      "3        2022         21\n",
      "4        2023         69\n",
      "5        2024         45\n"
     ]
    }
   ],
   "source": [
    "## Used AI to create a table\n",
    "\n",
    "summary_TJ = pd.DataFrame({\n",
    "    'Fiscal Year': ['2019', '2020', '2021', '2022', '2023', '2024'],\n",
    "    'Instances': [\n",
    "        len(df_2019),\n",
    "        len(df_2020),\n",
    "        len(df_2021),\n",
    "        len(df_2022),\n",
    "        len(df_2023),\n",
    "        len(df_2024)\n",
    "    ]\n",
    "})\n",
    "\n",
    "print(summary_TJ)"
   ]
  },
  {
   "cell_type": "code",
   "execution_count": 41,
   "id": "cb40eae9-7368-4fea-888c-822415943395",
   "metadata": {},
   "outputs": [
    {
     "data": {
      "text/html": [
       "<div>\n",
       "<style scoped>\n",
       "    .dataframe tbody tr th:only-of-type {\n",
       "        vertical-align: middle;\n",
       "    }\n",
       "\n",
       "    .dataframe tbody tr th {\n",
       "        vertical-align: top;\n",
       "    }\n",
       "\n",
       "    .dataframe thead th {\n",
       "        text-align: right;\n",
       "    }\n",
       "</style>\n",
       "<table border=\"1\" class=\"dataframe\">\n",
       "  <thead>\n",
       "    <tr style=\"text-align: right;\">\n",
       "      <th></th>\n",
       "      <th>Date Filed</th>\n",
       "      <th>Case Name</th>\n",
       "    </tr>\n",
       "  </thead>\n",
       "  <tbody>\n",
       "    <tr>\n",
       "      <th>3631</th>\n",
       "      <td>2024-08-02</td>\n",
       "      <td>Starbucks Corporation</td>\n",
       "    </tr>\n",
       "    <tr>\n",
       "      <th>6730</th>\n",
       "      <td>2024-06-10</td>\n",
       "      <td>Starbucks Corporation</td>\n",
       "    </tr>\n",
       "    <tr>\n",
       "      <th>10312</th>\n",
       "      <td>2024-04-11</td>\n",
       "      <td>Starbucks Corporation</td>\n",
       "    </tr>\n",
       "    <tr>\n",
       "      <th>10367</th>\n",
       "      <td>2024-04-10</td>\n",
       "      <td>Starbucks Corporation</td>\n",
       "    </tr>\n",
       "    <tr>\n",
       "      <th>10370</th>\n",
       "      <td>2024-04-10</td>\n",
       "      <td>Starbucks Corporation</td>\n",
       "    </tr>\n",
       "    <tr>\n",
       "      <th>...</th>\n",
       "      <td>...</td>\n",
       "      <td>...</td>\n",
       "    </tr>\n",
       "    <tr>\n",
       "      <th>87345</th>\n",
       "      <td>2019-11-25</td>\n",
       "      <td>Starbucks Coffee Company</td>\n",
       "    </tr>\n",
       "    <tr>\n",
       "      <th>106757</th>\n",
       "      <td>2018-11-05</td>\n",
       "      <td>Starbucks</td>\n",
       "    </tr>\n",
       "    <tr>\n",
       "      <th>109285</th>\n",
       "      <td>2018-09-19</td>\n",
       "      <td>Starbucks</td>\n",
       "    </tr>\n",
       "    <tr>\n",
       "      <th>111026</th>\n",
       "      <td>2018-08-16</td>\n",
       "      <td>Starbucks</td>\n",
       "    </tr>\n",
       "    <tr>\n",
       "      <th>111845</th>\n",
       "      <td>2018-08-02</td>\n",
       "      <td>Starbucks</td>\n",
       "    </tr>\n",
       "  </tbody>\n",
       "</table>\n",
       "<p>1085 rows × 2 columns</p>\n",
       "</div>"
      ],
      "text/plain": [
       "       Date Filed                 Case Name\n",
       "3631   2024-08-02     Starbucks Corporation\n",
       "6730   2024-06-10     Starbucks Corporation\n",
       "10312  2024-04-11     Starbucks Corporation\n",
       "10367  2024-04-10     Starbucks Corporation\n",
       "10370  2024-04-10     Starbucks Corporation\n",
       "...           ...                       ...\n",
       "87345  2019-11-25  Starbucks Coffee Company\n",
       "106757 2018-11-05                 Starbucks\n",
       "109285 2018-09-19                 Starbucks\n",
       "111026 2018-08-16                 Starbucks\n",
       "111845 2018-08-02                 Starbucks\n",
       "\n",
       "[1085 rows x 2 columns]"
      ]
     },
     "execution_count": 41,
     "metadata": {},
     "output_type": "execute_result"
    }
   ],
   "source": [
    "## sort for Starbucks, call it\n",
    "\n",
    "Starbucks = df[df['Case Name'].str.contains(\"Starbucks\", na=False)]\n",
    "Starbucks"
   ]
  },
  {
   "cell_type": "code",
   "execution_count": 43,
   "id": "174b55a8-d481-4653-964f-6ba40a3b4d60",
   "metadata": {},
   "outputs": [
    {
     "name": "stdout",
     "output_type": "stream",
     "text": [
      "<class 'pandas.core.frame.DataFrame'>\n",
      "Index: 1085 entries, 3631 to 111845\n",
      "Data columns (total 2 columns):\n",
      " #   Column      Non-Null Count  Dtype         \n",
      "---  ------      --------------  -----         \n",
      " 0   Date Filed  1085 non-null   datetime64[ns]\n",
      " 1   Case Name   1085 non-null   object        \n",
      "dtypes: datetime64[ns](1), object(1)\n",
      "memory usage: 25.4+ KB\n"
     ]
    }
   ],
   "source": [
    "## examine\n",
    "\n",
    "Starbucks.info()"
   ]
  },
  {
   "cell_type": "code",
   "execution_count": 45,
   "id": "708c24f7-4f66-4660-b798-2be7c52d50c8",
   "metadata": {},
   "outputs": [],
   "source": [
    "## With help from AI, made a copy (because it's a slice):\n",
    "\n",
    "Starbucks = Starbucks.copy()"
   ]
  },
  {
   "cell_type": "code",
   "execution_count": 47,
   "id": "e55aa41c-91af-48e3-9e2e-aad7035b2c6b",
   "metadata": {},
   "outputs": [],
   "source": [
    "## cut up TJ by FY 2018 - 2024 \n",
    "\n",
    "Starbucks_2019 = Starbucks[\n",
    "    (Starbucks[\"Date Filed\"] >= \"2018-10-01\") & (Starbucks[\"Date Filed\"] <= \"2019-09-30\")].copy()\n",
    "Starbucks_2020 = Starbucks[\n",
    "    (Starbucks[\"Date Filed\"] >= \"2019-10-01\") & (Starbucks[\"Date Filed\"] <= \"2020-09-30\")].copy()\n",
    "Starbucks_2021 = Starbucks[\n",
    "    (Starbucks[\"Date Filed\"] >= \"2020-10-01\") & (Starbucks[\"Date Filed\"] <= \"2021-09-30\")].copy()\n",
    "Starbucks_2022 = Starbucks[\n",
    "    (Starbucks[\"Date Filed\"] >= \"2021-10-01\") & (Starbucks[\"Date Filed\"] <= \"2022-09-30\")].copy()\n",
    "Starbucks_2023 = Starbucks[\n",
    "    (Starbucks[\"Date Filed\"] >= \"2022-10-01\") & (Starbucks[\"Date Filed\"] <= \"2023-09-30\")].copy()\n",
    "Starbucks_2024 = Starbucks[\n",
    "    (Starbucks[\"Date Filed\"] >= \"2023-10-01\") & (Starbucks[\"Date Filed\"] <= \"2024-09-30\")].copy()"
   ]
  },
  {
   "cell_type": "code",
   "execution_count": 49,
   "id": "7b2a8abb-7e81-460e-a096-390080390e21",
   "metadata": {},
   "outputs": [
    {
     "name": "stdout",
     "output_type": "stream",
     "text": [
      "Starbucks cases in FY2019: 1\n",
      "Starbucks cases in FY2020: 11\n",
      "Starbucks cases in FY2021: 5\n",
      "Starbucks cases in FY2022: 367\n",
      "Starbucks cases in FY2023: 545\n",
      "Starbucks cases in FY2024: 153\n"
     ]
    }
   ],
   "source": [
    "## count cases per fy\n",
    "\n",
    "print(\"Starbucks cases in FY2019:\", len(Starbucks_2019))\n",
    "print(\"Starbucks cases in FY2020:\", len(Starbucks_2020))\n",
    "print(\"Starbucks cases in FY2021:\", len(Starbucks_2021))\n",
    "print(\"Starbucks cases in FY2022:\", len(Starbucks_2022))\n",
    "print(\"Starbucks cases in FY2023:\", len(Starbucks_2023))\n",
    "print(\"Starbucks cases in FY2024:\", len(Starbucks_2024))"
   ]
  },
  {
   "cell_type": "code",
   "execution_count": 55,
   "id": "9f0e8b59-80be-4893-8de9-82bccc1e95b8",
   "metadata": {},
   "outputs": [
    {
     "name": "stdout",
     "output_type": "stream",
     "text": [
      "  Fiscal Year  Instances\n",
      "0        2019          1\n",
      "1        2020         11\n",
      "2        2021          5\n",
      "3        2022        367\n",
      "4        2023        545\n",
      "5        2024        153\n"
     ]
    }
   ],
   "source": [
    "## Used AI to create a table\n",
    "\n",
    "summary_SB = pd.DataFrame({\n",
    "    'Fiscal Year': ['2019', '2020', '2021', '2022', '2023', '2024'],\n",
    "    'Instances': [\n",
    "        len(Starbucks_2019),\n",
    "        len(Starbucks_2020),\n",
    "        len(Starbucks_2021),\n",
    "        len(Starbucks_2022),\n",
    "        len(Starbucks_2023),\n",
    "        len(Starbucks_2024)\n",
    "    ]\n",
    "})\n",
    "\n",
    "print(summary_SB)"
   ]
  },
  {
   "cell_type": "code",
   "execution_count": 57,
   "id": "173795e0-6cdb-4a30-a25e-913280d04a1d",
   "metadata": {},
   "outputs": [
    {
     "data": {
      "text/html": [
       "<div>\n",
       "<style scoped>\n",
       "    .dataframe tbody tr th:only-of-type {\n",
       "        vertical-align: middle;\n",
       "    }\n",
       "\n",
       "    .dataframe tbody tr th {\n",
       "        vertical-align: top;\n",
       "    }\n",
       "\n",
       "    .dataframe thead th {\n",
       "        text-align: right;\n",
       "    }\n",
       "</style>\n",
       "<table border=\"1\" class=\"dataframe\">\n",
       "  <thead>\n",
       "    <tr style=\"text-align: right;\">\n",
       "      <th></th>\n",
       "      <th>Fiscal Year</th>\n",
       "      <th>Trader Joe's</th>\n",
       "    </tr>\n",
       "  </thead>\n",
       "  <tbody>\n",
       "    <tr>\n",
       "      <th>0</th>\n",
       "      <td>2019</td>\n",
       "      <td>1</td>\n",
       "    </tr>\n",
       "    <tr>\n",
       "      <th>1</th>\n",
       "      <td>2020</td>\n",
       "      <td>1</td>\n",
       "    </tr>\n",
       "    <tr>\n",
       "      <th>2</th>\n",
       "      <td>2021</td>\n",
       "      <td>3</td>\n",
       "    </tr>\n",
       "    <tr>\n",
       "      <th>3</th>\n",
       "      <td>2022</td>\n",
       "      <td>21</td>\n",
       "    </tr>\n",
       "    <tr>\n",
       "      <th>4</th>\n",
       "      <td>2023</td>\n",
       "      <td>69</td>\n",
       "    </tr>\n",
       "    <tr>\n",
       "      <th>5</th>\n",
       "      <td>2024</td>\n",
       "      <td>45</td>\n",
       "    </tr>\n",
       "  </tbody>\n",
       "</table>\n",
       "</div>"
      ],
      "text/plain": [
       "  Fiscal Year  Trader Joe's\n",
       "0        2019             1\n",
       "1        2020             1\n",
       "2        2021             3\n",
       "3        2022            21\n",
       "4        2023            69\n",
       "5        2024            45"
      ]
     },
     "execution_count": 57,
     "metadata": {},
     "output_type": "execute_result"
    }
   ],
   "source": [
    "# Rename columns in tables for Trader Joe's\n",
    "\n",
    "summary_TJ = summary_TJ.rename(columns={\"Instances\": \"Trader Joe's\"})\n",
    "summary_TJ"
   ]
  },
  {
   "cell_type": "code",
   "execution_count": 59,
   "id": "25be15df-19b2-434d-9c71-57598808242c",
   "metadata": {},
   "outputs": [
    {
     "data": {
      "text/html": [
       "<div>\n",
       "<style scoped>\n",
       "    .dataframe tbody tr th:only-of-type {\n",
       "        vertical-align: middle;\n",
       "    }\n",
       "\n",
       "    .dataframe tbody tr th {\n",
       "        vertical-align: top;\n",
       "    }\n",
       "\n",
       "    .dataframe thead th {\n",
       "        text-align: right;\n",
       "    }\n",
       "</style>\n",
       "<table border=\"1\" class=\"dataframe\">\n",
       "  <thead>\n",
       "    <tr style=\"text-align: right;\">\n",
       "      <th></th>\n",
       "      <th>Fiscal Year</th>\n",
       "      <th>Starbucks</th>\n",
       "    </tr>\n",
       "  </thead>\n",
       "  <tbody>\n",
       "    <tr>\n",
       "      <th>0</th>\n",
       "      <td>2019</td>\n",
       "      <td>1</td>\n",
       "    </tr>\n",
       "    <tr>\n",
       "      <th>1</th>\n",
       "      <td>2020</td>\n",
       "      <td>11</td>\n",
       "    </tr>\n",
       "    <tr>\n",
       "      <th>2</th>\n",
       "      <td>2021</td>\n",
       "      <td>5</td>\n",
       "    </tr>\n",
       "    <tr>\n",
       "      <th>3</th>\n",
       "      <td>2022</td>\n",
       "      <td>367</td>\n",
       "    </tr>\n",
       "    <tr>\n",
       "      <th>4</th>\n",
       "      <td>2023</td>\n",
       "      <td>545</td>\n",
       "    </tr>\n",
       "    <tr>\n",
       "      <th>5</th>\n",
       "      <td>2024</td>\n",
       "      <td>153</td>\n",
       "    </tr>\n",
       "  </tbody>\n",
       "</table>\n",
       "</div>"
      ],
      "text/plain": [
       "  Fiscal Year  Starbucks\n",
       "0        2019          1\n",
       "1        2020         11\n",
       "2        2021          5\n",
       "3        2022        367\n",
       "4        2023        545\n",
       "5        2024        153"
      ]
     },
     "execution_count": 59,
     "metadata": {},
     "output_type": "execute_result"
    }
   ],
   "source": [
    "## repeat for Starbucks\n",
    "\n",
    "summary_SB = summary_SB.rename(columns={\"Instances\": \"Starbucks\"})\n",
    "summary_SB"
   ]
  },
  {
   "cell_type": "code",
   "execution_count": 61,
   "id": "bda9e5ff-8565-47c7-b39d-79f4c1c45a5c",
   "metadata": {},
   "outputs": [],
   "source": [
    "## combine\n",
    "\n",
    "combined = pd.merge(summary_TJ, summary_SB, on='Fiscal Year')"
   ]
  },
  {
   "cell_type": "code",
   "execution_count": 63,
   "id": "08642235-a01a-4fc3-8e03-94b8debd0c51",
   "metadata": {},
   "outputs": [
    {
     "name": "stdout",
     "output_type": "stream",
     "text": [
      "  Fiscal Year  Trader Joe's  Starbucks\n",
      "0        2019             1          1\n",
      "1        2020             1         11\n",
      "2        2021             3          5\n",
      "3        2022            21        367\n",
      "4        2023            69        545\n",
      "5        2024            45        153\n"
     ]
    }
   ],
   "source": [
    "## print and export\n",
    "print(combined)\n",
    "combined.to_csv('combined_fy_summary.csv', index=False)"
   ]
  },
  {
   "cell_type": "code",
   "execution_count": 67,
   "id": "d2526f84-4ffe-4042-a60c-42afd653c20f",
   "metadata": {
    "scrolled": true
   },
   "outputs": [
    {
     "data": {
      "text/html": [
       "<div>\n",
       "<style scoped>\n",
       "    .dataframe tbody tr th:only-of-type {\n",
       "        vertical-align: middle;\n",
       "    }\n",
       "\n",
       "    .dataframe tbody tr th {\n",
       "        vertical-align: top;\n",
       "    }\n",
       "\n",
       "    .dataframe thead th {\n",
       "        text-align: right;\n",
       "    }\n",
       "</style>\n",
       "<table border=\"1\" class=\"dataframe\">\n",
       "  <thead>\n",
       "    <tr style=\"text-align: right;\">\n",
       "      <th></th>\n",
       "      <th>Date Filed</th>\n",
       "      <th>Case Name</th>\n",
       "    </tr>\n",
       "  </thead>\n",
       "  <tbody>\n",
       "    <tr>\n",
       "      <th>1</th>\n",
       "      <td>2024-09-30</td>\n",
       "      <td>Amazon.com Services, Inc.</td>\n",
       "    </tr>\n",
       "    <tr>\n",
       "      <th>167</th>\n",
       "      <td>2024-09-27</td>\n",
       "      <td>Amazon.com services LLC and Amazon Logistics</td>\n",
       "    </tr>\n",
       "    <tr>\n",
       "      <th>367</th>\n",
       "      <td>2024-09-25</td>\n",
       "      <td>International Brotherhood of Teamsters, Teamst...</td>\n",
       "    </tr>\n",
       "    <tr>\n",
       "      <th>393</th>\n",
       "      <td>2024-09-24</td>\n",
       "      <td>Amazon.com Services, LLC and Amazon Logistics</td>\n",
       "    </tr>\n",
       "    <tr>\n",
       "      <th>415</th>\n",
       "      <td>2024-09-24</td>\n",
       "      <td>Amazon DAL 3 Company</td>\n",
       "    </tr>\n",
       "    <tr>\n",
       "      <th>...</th>\n",
       "      <td>...</td>\n",
       "      <td>...</td>\n",
       "    </tr>\n",
       "    <tr>\n",
       "      <th>119353</th>\n",
       "      <td>2018-03-12</td>\n",
       "      <td>Amazon.com</td>\n",
       "    </tr>\n",
       "    <tr>\n",
       "      <th>119571</th>\n",
       "      <td>2018-03-08</td>\n",
       "      <td>Amazon Fulfillment Center</td>\n",
       "    </tr>\n",
       "    <tr>\n",
       "      <th>124983</th>\n",
       "      <td>2017-11-17</td>\n",
       "      <td>Amazon.com</td>\n",
       "    </tr>\n",
       "    <tr>\n",
       "      <th>125879</th>\n",
       "      <td>2017-11-01</td>\n",
       "      <td>Amazon.dedc, LLC</td>\n",
       "    </tr>\n",
       "    <tr>\n",
       "      <th>127201</th>\n",
       "      <td>2017-10-10</td>\n",
       "      <td>Silverstar Delivery LTD, Gold Standard Transpo...</td>\n",
       "    </tr>\n",
       "  </tbody>\n",
       "</table>\n",
       "<p>588 rows × 2 columns</p>\n",
       "</div>"
      ],
      "text/plain": [
       "       Date Filed                                          Case Name\n",
       "1      2024-09-30                          Amazon.com Services, Inc.\n",
       "167    2024-09-27       Amazon.com services LLC and Amazon Logistics\n",
       "367    2024-09-25  International Brotherhood of Teamsters, Teamst...\n",
       "393    2024-09-24      Amazon.com Services, LLC and Amazon Logistics\n",
       "415    2024-09-24                               Amazon DAL 3 Company\n",
       "...           ...                                                ...\n",
       "119353 2018-03-12                                         Amazon.com\n",
       "119571 2018-03-08                          Amazon Fulfillment Center\n",
       "124983 2017-11-17                                         Amazon.com\n",
       "125879 2017-11-01                                   Amazon.dedc, LLC\n",
       "127201 2017-10-10  Silverstar Delivery LTD, Gold Standard Transpo...\n",
       "\n",
       "[588 rows x 2 columns]"
      ]
     },
     "execution_count": 67,
     "metadata": {},
     "output_type": "execute_result"
    }
   ],
   "source": [
    "## sort for Amazon, call it\n",
    "\n",
    "Amazon = df[df['Case Name'].str.contains(\"Amazon\", na=False)]\n",
    "Amazon"
   ]
  },
  {
   "cell_type": "code",
   "execution_count": 69,
   "id": "463cbd1e-40f3-419e-a7cc-f221b2d9cdb6",
   "metadata": {},
   "outputs": [],
   "source": [
    "## cut up Amazon by FY 2018 - 2024 \n",
    "\n",
    "Amazon_2019 = Amazon[\n",
    "    (Amazon[\"Date Filed\"] >= \"2018-10-01\") & (Amazon[\"Date Filed\"] <= \"2019-09-30\")].copy()\n",
    "Amazon_2020 = Amazon[\n",
    "    (Amazon[\"Date Filed\"] >= \"2019-10-01\") & (Amazon[\"Date Filed\"] <= \"2020-09-30\")].copy()\n",
    "Amazon_2021 = Amazon[\n",
    "    (Amazon[\"Date Filed\"] >= \"2020-10-01\") & (Amazon[\"Date Filed\"] <= \"2021-09-30\")].copy()\n",
    "Amazon_2022 = Amazon[\n",
    "    (Amazon[\"Date Filed\"] >= \"2021-10-01\") & (Amazon[\"Date Filed\"] <= \"2022-09-30\")].copy()\n",
    "Amazon_2023 = Amazon[\n",
    "    (Amazon[\"Date Filed\"] >= \"2022-10-01\") & (Amazon[\"Date Filed\"] <= \"2023-09-30\")].copy()\n",
    "Amazon_2024 = Amazon[\n",
    "    (Amazon[\"Date Filed\"] >= \"2023-10-01\") & (Amazon[\"Date Filed\"] <= \"2024-09-30\")].copy()"
   ]
  },
  {
   "cell_type": "code",
   "execution_count": 71,
   "id": "1993f0c0-fd6e-4d31-a2fa-e7e3b1ada3f3",
   "metadata": {},
   "outputs": [
    {
     "name": "stdout",
     "output_type": "stream",
     "text": [
      "<class 'pandas.core.frame.DataFrame'>\n",
      "Index: 588 entries, 1 to 127201\n",
      "Data columns (total 2 columns):\n",
      " #   Column      Non-Null Count  Dtype         \n",
      "---  ------      --------------  -----         \n",
      " 0   Date Filed  588 non-null    datetime64[ns]\n",
      " 1   Case Name   588 non-null    object        \n",
      "dtypes: datetime64[ns](1), object(1)\n",
      "memory usage: 13.8+ KB\n"
     ]
    }
   ],
   "source": [
    "## examine\n",
    "\n",
    "Amazon.info()"
   ]
  },
  {
   "cell_type": "code",
   "execution_count": 73,
   "id": "255d4956-d41b-4d2d-901a-21a8d062d226",
   "metadata": {},
   "outputs": [
    {
     "name": "stdout",
     "output_type": "stream",
     "text": [
      "Amazon cases in FY2019: 10\n",
      "Amazon cases in FY2020: 30\n",
      "Amazon cases in FY2021: 35\n",
      "Amazon cases in FY2022: 166\n",
      "Amazon cases in FY2023: 171\n",
      "Amazon cases in FY2024: 170\n"
     ]
    }
   ],
   "source": [
    "## count cases per fy\n",
    "\n",
    "print(\"Amazon cases in FY2019:\", len(Amazon_2019))\n",
    "print(\"Amazon cases in FY2020:\", len(Amazon_2020))\n",
    "print(\"Amazon cases in FY2021:\", len(Amazon_2021))\n",
    "print(\"Amazon cases in FY2022:\", len(Amazon_2022))\n",
    "print(\"Amazon cases in FY2023:\", len(Amazon_2023))\n",
    "print(\"Amazon cases in FY2024:\", len(Amazon_2024))"
   ]
  },
  {
   "cell_type": "code",
   "execution_count": 77,
   "id": "a0b87e7f-61b0-45e7-acc5-24c43aef32a8",
   "metadata": {},
   "outputs": [
    {
     "name": "stdout",
     "output_type": "stream",
     "text": [
      "  Fiscal Year  Instances\n",
      "0        2019         10\n",
      "1        2020         30\n",
      "2        2021         35\n",
      "3        2022        166\n",
      "4        2023        171\n",
      "5        2024        170\n"
     ]
    }
   ],
   "source": [
    "## Used AI to create a table\n",
    "\n",
    "summary_Amazon = pd.DataFrame({\n",
    "    'Fiscal Year': ['2019', '2020', '2021', '2022', '2023', '2024'],\n",
    "    'Instances': [\n",
    "        len(Amazon_2019),\n",
    "        len(Amazon_2020),\n",
    "        len(Amazon_2021),\n",
    "        len(Amazon_2022),\n",
    "        len(Amazon_2023),\n",
    "        len(Amazon_2024)\n",
    "    ]\n",
    "})\n",
    "\n",
    "print(summary_Amazon)"
   ]
  },
  {
   "cell_type": "code",
   "execution_count": 79,
   "id": "6cd0ec58-e6ca-4922-bb9a-4abf0331bbfe",
   "metadata": {},
   "outputs": [
    {
     "data": {
      "text/html": [
       "<div>\n",
       "<style scoped>\n",
       "    .dataframe tbody tr th:only-of-type {\n",
       "        vertical-align: middle;\n",
       "    }\n",
       "\n",
       "    .dataframe tbody tr th {\n",
       "        vertical-align: top;\n",
       "    }\n",
       "\n",
       "    .dataframe thead th {\n",
       "        text-align: right;\n",
       "    }\n",
       "</style>\n",
       "<table border=\"1\" class=\"dataframe\">\n",
       "  <thead>\n",
       "    <tr style=\"text-align: right;\">\n",
       "      <th></th>\n",
       "      <th>Fiscal Year</th>\n",
       "      <th>Amazon</th>\n",
       "    </tr>\n",
       "  </thead>\n",
       "  <tbody>\n",
       "    <tr>\n",
       "      <th>0</th>\n",
       "      <td>2019</td>\n",
       "      <td>10</td>\n",
       "    </tr>\n",
       "    <tr>\n",
       "      <th>1</th>\n",
       "      <td>2020</td>\n",
       "      <td>30</td>\n",
       "    </tr>\n",
       "    <tr>\n",
       "      <th>2</th>\n",
       "      <td>2021</td>\n",
       "      <td>35</td>\n",
       "    </tr>\n",
       "    <tr>\n",
       "      <th>3</th>\n",
       "      <td>2022</td>\n",
       "      <td>166</td>\n",
       "    </tr>\n",
       "    <tr>\n",
       "      <th>4</th>\n",
       "      <td>2023</td>\n",
       "      <td>171</td>\n",
       "    </tr>\n",
       "    <tr>\n",
       "      <th>5</th>\n",
       "      <td>2024</td>\n",
       "      <td>170</td>\n",
       "    </tr>\n",
       "  </tbody>\n",
       "</table>\n",
       "</div>"
      ],
      "text/plain": [
       "  Fiscal Year  Amazon\n",
       "0        2019      10\n",
       "1        2020      30\n",
       "2        2021      35\n",
       "3        2022     166\n",
       "4        2023     171\n",
       "5        2024     170"
      ]
     },
     "execution_count": 79,
     "metadata": {},
     "output_type": "execute_result"
    }
   ],
   "source": [
    "## rename Amazon instances column\n",
    "\n",
    "summary_Amazon = summary_Amazon.rename(columns={'Instances': 'Amazon'})\n",
    "summary_Amazon"
   ]
  },
  {
   "cell_type": "code",
   "execution_count": 81,
   "id": "2e9df698-1707-4155-a564-7780a1262105",
   "metadata": {},
   "outputs": [
    {
     "name": "stdout",
     "output_type": "stream",
     "text": [
      "  Fiscal Year  Trader Joe's  Starbucks  Amazon\n",
      "0        2019             1          1      10\n",
      "1        2020             1         11      30\n",
      "2        2021             3          5      35\n",
      "3        2022            21        367     166\n",
      "4        2023            69        545     171\n",
      "5        2024            45        153     170\n"
     ]
    }
   ],
   "source": [
    "## combine\n",
    "\n",
    "combined = pd.merge(combined, summary_Amazon, on = 'Fiscal Year')\n",
    "print(combined)"
   ]
  },
  {
   "cell_type": "code",
   "execution_count": 83,
   "id": "968bef24-01dd-4193-9ae1-cc6d883f1f01",
   "metadata": {},
   "outputs": [],
   "source": [
    "## export\n",
    "\n",
    "combined.to_csv('combined_ULP_complaints.csv', index=False)"
   ]
  },
  {
   "cell_type": "code",
   "execution_count": 85,
   "id": "c7e41afd-bf6f-462b-ad15-92cf1f9b5e1f",
   "metadata": {},
   "outputs": [
    {
     "data": {
      "text/plain": [
       "<bound method DataFrame.count of        Date Filed                                          Case Name\n",
       "0      2024-09-30                             Menehune Water Company\n",
       "1      2024-09-30                          Amazon.com Services, Inc.\n",
       "2      2024-09-30                                           Mohr Oil\n",
       "3      2024-09-30                       United States Postal Service\n",
       "4      2024-09-30                       UNITED STATES POSTAL SERVICE\n",
       "...           ...                                                ...\n",
       "127561 2017-10-02                                General Motors, LLC\n",
       "127562 2017-10-02  Local 163, International Union, United Automob...\n",
       "127563 2017-10-02                         Legal Aid of West Virginia\n",
       "127564 2017-10-02                       United States Postal Service\n",
       "127565 2017-10-02                       Cadillac of Naperville, Inc.\n",
       "\n",
       "[127566 rows x 2 columns]>"
      ]
     },
     "execution_count": 85,
     "metadata": {},
     "output_type": "execute_result"
    }
   ],
   "source": [
    "## add a column with the overall count\n",
    "\n",
    "df.count"
   ]
  },
  {
   "cell_type": "code",
   "execution_count": 87,
   "id": "426fc664-7800-48fe-8cb2-2b360e0d4258",
   "metadata": {},
   "outputs": [],
   "source": [
    "## cut up all cases by FY 2018 - 2023\n",
    "\n",
    "all_2019 = df[\n",
    "    (df[\"Date Filed\"] >= \"2018-10-01\") & (df[\"Date Filed\"] <= \"2019-09-30\")].copy()\n",
    "all_2020 = df[\n",
    "    (df[\"Date Filed\"] >= \"2019-10-01\") & (df[\"Date Filed\"] <= \"2020-09-30\")].copy()\n",
    "all_2021 = df[\n",
    "    (df[\"Date Filed\"] >= \"2020-10-01\") & (df[\"Date Filed\"] <= \"2021-09-30\")].copy()\n",
    "all_2022 = df[\n",
    "    (df[\"Date Filed\"] >= \"2021-10-01\") & (df[\"Date Filed\"] <= \"2022-09-30\")].copy()\n",
    "all_2023 = df[\n",
    "    (df[\"Date Filed\"] >= \"2022-10-01\") & (df[\"Date Filed\"] <= \"2023-09-30\")].copy()\n",
    "all_2024 = df[\n",
    "    (df[\"Date Filed\"] >= \"2023-10-01\") & (df[\"Date Filed\"] <= \"2024-09-30\")].copy()"
   ]
  },
  {
   "cell_type": "code",
   "execution_count": 89,
   "id": "091b0225-7d7c-45d8-a135-1c7bea523192",
   "metadata": {},
   "outputs": [
    {
     "name": "stdout",
     "output_type": "stream",
     "text": [
      "All cases in FY2019: 18546\n",
      "All cases in FY2020: 15868\n",
      "All cases in FY2021: 15082\n",
      "All cases in FY2022: 18002\n",
      "All cases in FY2023: 19892\n",
      "All cases in FY2024: 21311\n"
     ]
    }
   ],
   "source": [
    "## count cases per fy\n",
    "\n",
    "print(\"All cases in FY2019:\", len(all_2019))\n",
    "print(\"All cases in FY2020:\", len(all_2020))\n",
    "print(\"All cases in FY2021:\", len(all_2021))\n",
    "print(\"All cases in FY2022:\", len(all_2022))\n",
    "print(\"All cases in FY2023:\", len(all_2023))\n",
    "print(\"All cases in FY2024:\", len(all_2024))"
   ]
  },
  {
   "cell_type": "code",
   "execution_count": 91,
   "id": "b1eaadc7-9891-45eb-bb7c-075ee6367c37",
   "metadata": {},
   "outputs": [
    {
     "name": "stdout",
     "output_type": "stream",
     "text": [
      "  Fiscal Year  Instances\n",
      "0        2019      18546\n",
      "1        2020      15868\n",
      "2        2021      15082\n",
      "3        2022      18002\n",
      "4        2023      19892\n",
      "5        2024      21311\n"
     ]
    }
   ],
   "source": [
    "## Used AI to create a table\n",
    "\n",
    "summary_all = pd.DataFrame({\n",
    "    'Fiscal Year': ['2019', '2020', '2021', '2022', '2023', '2024'],\n",
    "    'Instances': [\n",
    "        len(all_2019),\n",
    "        len(all_2020),\n",
    "        len(all_2021),\n",
    "        len(all_2022),\n",
    "        len(all_2023),\n",
    "        len(all_2024)\n",
    "    ]\n",
    "})\n",
    "\n",
    "print(summary_all)"
   ]
  },
  {
   "cell_type": "code",
   "execution_count": 93,
   "id": "95ad9c79-12da-4393-bb86-0ca09f0e981f",
   "metadata": {},
   "outputs": [
    {
     "data": {
      "text/html": [
       "<div>\n",
       "<style scoped>\n",
       "    .dataframe tbody tr th:only-of-type {\n",
       "        vertical-align: middle;\n",
       "    }\n",
       "\n",
       "    .dataframe tbody tr th {\n",
       "        vertical-align: top;\n",
       "    }\n",
       "\n",
       "    .dataframe thead th {\n",
       "        text-align: right;\n",
       "    }\n",
       "</style>\n",
       "<table border=\"1\" class=\"dataframe\">\n",
       "  <thead>\n",
       "    <tr style=\"text-align: right;\">\n",
       "      <th></th>\n",
       "      <th>Fiscal Year</th>\n",
       "      <th>All Cases</th>\n",
       "    </tr>\n",
       "  </thead>\n",
       "  <tbody>\n",
       "    <tr>\n",
       "      <th>0</th>\n",
       "      <td>2019</td>\n",
       "      <td>18546</td>\n",
       "    </tr>\n",
       "    <tr>\n",
       "      <th>1</th>\n",
       "      <td>2020</td>\n",
       "      <td>15868</td>\n",
       "    </tr>\n",
       "    <tr>\n",
       "      <th>2</th>\n",
       "      <td>2021</td>\n",
       "      <td>15082</td>\n",
       "    </tr>\n",
       "    <tr>\n",
       "      <th>3</th>\n",
       "      <td>2022</td>\n",
       "      <td>18002</td>\n",
       "    </tr>\n",
       "    <tr>\n",
       "      <th>4</th>\n",
       "      <td>2023</td>\n",
       "      <td>19892</td>\n",
       "    </tr>\n",
       "    <tr>\n",
       "      <th>5</th>\n",
       "      <td>2024</td>\n",
       "      <td>21311</td>\n",
       "    </tr>\n",
       "  </tbody>\n",
       "</table>\n",
       "</div>"
      ],
      "text/plain": [
       "  Fiscal Year  All Cases\n",
       "0        2019      18546\n",
       "1        2020      15868\n",
       "2        2021      15082\n",
       "3        2022      18002\n",
       "4        2023      19892\n",
       "5        2024      21311"
      ]
     },
     "execution_count": 93,
     "metadata": {},
     "output_type": "execute_result"
    }
   ],
   "source": [
    "## rename all instances column\n",
    "\n",
    "summary_all = summary_all.rename(columns={'Instances': 'All Cases'})\n",
    "summary_all"
   ]
  },
  {
   "cell_type": "code",
   "execution_count": 95,
   "id": "d15440a7-22d0-4e99-a6b9-b17c6dfad10b",
   "metadata": {},
   "outputs": [
    {
     "name": "stdout",
     "output_type": "stream",
     "text": [
      "  Fiscal Year  Trader Joe's  Starbucks  Amazon  All Cases\n",
      "0        2019             1          1      10      18546\n",
      "1        2020             1         11      30      15868\n",
      "2        2021             3          5      35      15082\n",
      "3        2022            21        367     166      18002\n",
      "4        2023            69        545     171      19892\n",
      "5        2024            45        153     170      21311\n"
     ]
    }
   ],
   "source": [
    "combined = pd.merge(combined, summary_all, on = 'Fiscal Year')\n",
    "print(combined)"
   ]
  },
  {
   "cell_type": "code",
   "execution_count": 97,
   "id": "912c37e0-49c3-4323-88f8-ddb882243ec0",
   "metadata": {},
   "outputs": [
    {
     "name": "stdout",
     "output_type": "stream",
     "text": [
      "  Fiscal Year  All Cases  Trader Joe's  Starbucks  Amazon\n",
      "0        2019      18546             1          1      10\n",
      "1        2020      15868             1         11      30\n",
      "2        2021      15082             3          5      35\n",
      "3        2022      18002            21        367     166\n",
      "4        2023      19892            69        545     171\n",
      "5        2024      21311            45        153     170\n"
     ]
    }
   ],
   "source": [
    "## move columns\n",
    "\n",
    "combined = combined[['Fiscal Year', 'All Cases',\"Trader Joe's\", 'Starbucks', 'Amazon']]\n",
    "print(combined)"
   ]
  },
  {
   "cell_type": "code",
   "execution_count": 99,
   "id": "fbafd571-0ed8-45d6-8007-d833f23d4e36",
   "metadata": {},
   "outputs": [],
   "source": [
    "## export\n",
    "\n",
    "combined.to_csv('all_ULP_complaints.csv', index=False)"
   ]
  },
  {
   "cell_type": "code",
   "execution_count": null,
   "id": "bbf5ea0b-d10f-4ff5-af63-1d4108898693",
   "metadata": {},
   "outputs": [],
   "source": []
  }
 ],
 "metadata": {
  "kernelspec": {
   "display_name": "Python [conda env:base] *",
   "language": "python",
   "name": "conda-base-py"
  },
  "language_info": {
   "codemirror_mode": {
    "name": "ipython",
    "version": 3
   },
   "file_extension": ".py",
   "mimetype": "text/x-python",
   "name": "python",
   "nbconvert_exporter": "python",
   "pygments_lexer": "ipython3",
   "version": "3.12.7"
  }
 },
 "nbformat": 4,
 "nbformat_minor": 5
}
