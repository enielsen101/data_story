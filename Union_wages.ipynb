{
 "cells": [
  {
   "cell_type": "code",
   "execution_count": 2,
   "id": "afe70efc-ee37-4e4a-b3c9-20563fb2a255",
   "metadata": {},
   "outputs": [],
   "source": [
    "## import pandas\n",
    "\n",
    "import pandas as pd"
   ]
  },
  {
   "cell_type": "code",
   "execution_count": 6,
   "id": "3ec03a58-8152-404b-8130-7880ead9dc6e",
   "metadata": {},
   "outputs": [],
   "source": [
    "## import data\n",
    "\n",
    "df = pd.read_csv(\"data_raw/BLS-23_24.csv\")"
   ]
  },
  {
   "cell_type": "code",
   "execution_count": 10,
   "id": "bc87adc3-be1f-4f60-8550-9ad6f8b17f03",
   "metadata": {},
   "outputs": [
    {
     "name": "stdout",
     "output_type": "stream",
     "text": [
      "<class 'pandas.core.frame.DataFrame'>\n",
      "RangeIndex: 48 entries, 0 to 47\n",
      "Data columns (total 9 columns):\n",
      " #   Column          Non-Null Count  Dtype \n",
      "---  ------          --------------  ----- \n",
      " 0   Characteristic  40 non-null     object\n",
      " 1   2023            39 non-null     object\n",
      " 2   2024            38 non-null     object\n",
      " 3   Unnamed: 3      38 non-null     object\n",
      " 4   Unnamed: 4      37 non-null     object\n",
      " 5   Unnamed: 5      39 non-null     object\n",
      " 6   Unnamed: 6      38 non-null     object\n",
      " 7   Unnamed: 7      38 non-null     object\n",
      " 8   Unnamed: 8      36 non-null     object\n",
      "dtypes: object(9)\n",
      "memory usage: 3.5+ KB\n"
     ]
    }
   ],
   "source": [
    "## get info \n",
    "\n",
    "df.info()"
   ]
  },
  {
   "cell_type": "code",
   "execution_count": 12,
   "id": "53e06e31-9a61-4217-bbda-fd5c3d2c6d9a",
   "metadata": {},
   "outputs": [
    {
     "data": {
      "text/html": [
       "<div>\n",
       "<style scoped>\n",
       "    .dataframe tbody tr th:only-of-type {\n",
       "        vertical-align: middle;\n",
       "    }\n",
       "\n",
       "    .dataframe tbody tr th {\n",
       "        vertical-align: top;\n",
       "    }\n",
       "\n",
       "    .dataframe thead th {\n",
       "        text-align: right;\n",
       "    }\n",
       "</style>\n",
       "<table border=\"1\" class=\"dataframe\">\n",
       "  <thead>\n",
       "    <tr style=\"text-align: right;\">\n",
       "      <th></th>\n",
       "      <th>Characteristic</th>\n",
       "      <th>2023</th>\n",
       "      <th>2024</th>\n",
       "      <th>Unnamed: 3</th>\n",
       "      <th>Unnamed: 4</th>\n",
       "      <th>Unnamed: 5</th>\n",
       "      <th>Unnamed: 6</th>\n",
       "      <th>Unnamed: 7</th>\n",
       "      <th>Unnamed: 8</th>\n",
       "    </tr>\n",
       "  </thead>\n",
       "  <tbody>\n",
       "    <tr>\n",
       "      <th>0</th>\n",
       "      <td>Total</td>\n",
       "      <td>Members</td>\n",
       "      <td>Represented</td>\n",
       "      <td>Non-</td>\n",
       "      <td>Total</td>\n",
       "      <td>Members</td>\n",
       "      <td>Represented</td>\n",
       "      <td>Non-</td>\n",
       "      <td>NaN</td>\n",
       "    </tr>\n",
       "    <tr>\n",
       "      <th>1</th>\n",
       "      <td>NaN</td>\n",
       "      <td>of</td>\n",
       "      <td>by unions(2)</td>\n",
       "      <td>union(3)</td>\n",
       "      <td>NaN</td>\n",
       "      <td>of</td>\n",
       "      <td>by unions(2)</td>\n",
       "      <td>union(3)</td>\n",
       "      <td>NaN</td>\n",
       "    </tr>\n",
       "    <tr>\n",
       "      <th>2</th>\n",
       "      <td>NaN</td>\n",
       "      <td>unions(1)</td>\n",
       "      <td>NaN</td>\n",
       "      <td>NaN</td>\n",
       "      <td>NaN</td>\n",
       "      <td>unions(1)</td>\n",
       "      <td>NaN</td>\n",
       "      <td>NaN</td>\n",
       "      <td>NaN</td>\n",
       "    </tr>\n",
       "    <tr>\n",
       "      <th>3</th>\n",
       "      <td>AGE AND SEX</td>\n",
       "      <td>NaN</td>\n",
       "      <td>NaN</td>\n",
       "      <td>NaN</td>\n",
       "      <td>NaN</td>\n",
       "      <td>NaN</td>\n",
       "      <td>NaN</td>\n",
       "      <td>NaN</td>\n",
       "      <td>NaN</td>\n",
       "    </tr>\n",
       "    <tr>\n",
       "      <th>4</th>\n",
       "      <td>Total, 16 years and over</td>\n",
       "      <td>$1,117</td>\n",
       "      <td>$1,263</td>\n",
       "      <td>$1,253</td>\n",
       "      <td>$1,090</td>\n",
       "      <td>$1,159</td>\n",
       "      <td>$1,337</td>\n",
       "      <td>$1,320</td>\n",
       "      <td>$1,138</td>\n",
       "    </tr>\n",
       "  </tbody>\n",
       "</table>\n",
       "</div>"
      ],
      "text/plain": [
       "             Characteristic       2023          2024 Unnamed: 3 Unnamed: 4  \\\n",
       "0                     Total    Members   Represented       Non-      Total   \n",
       "1                       NaN         of  by unions(2)   union(3)        NaN   \n",
       "2                       NaN  unions(1)           NaN        NaN        NaN   \n",
       "3               AGE AND SEX        NaN           NaN        NaN        NaN   \n",
       "4  Total, 16 years and over    $1,117        $1,263     $1,253     $1,090    \n",
       "\n",
       "  Unnamed: 5    Unnamed: 6 Unnamed: 7 Unnamed: 8  \n",
       "0    Members   Represented       Non-        NaN  \n",
       "1         of  by unions(2)   union(3)        NaN  \n",
       "2  unions(1)           NaN        NaN        NaN  \n",
       "3        NaN           NaN        NaN        NaN  \n",
       "4    $1,159        $1,337     $1,320     $1,138   "
      ]
     },
     "execution_count": 12,
     "metadata": {},
     "output_type": "execute_result"
    }
   ],
   "source": [
    "## Examine head\n",
    "\n",
    "df.head()"
   ]
  },
  {
   "cell_type": "code",
   "execution_count": null,
   "id": "20beb660-b69e-4c03-b600-c7231a91964b",
   "metadata": {},
   "outputs": [],
   "source": []
  }
 ],
 "metadata": {
  "kernelspec": {
   "display_name": "Python [conda env:base] *",
   "language": "python",
   "name": "conda-base-py"
  },
  "language_info": {
   "codemirror_mode": {
    "name": "ipython",
    "version": 3
   },
   "file_extension": ".py",
   "mimetype": "text/x-python",
   "name": "python",
   "nbconvert_exporter": "python",
   "pygments_lexer": "ipython3",
   "version": "3.12.7"
  }
 },
 "nbformat": 4,
 "nbformat_minor": 5
}
